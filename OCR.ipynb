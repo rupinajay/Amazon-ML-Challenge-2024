{
 "cells": [
  {
   "cell_type": "markdown",
   "id": "fde0edea-9986-4e1d-8422-e0dc8d428513",
   "metadata": {},
   "source": [
    "# 1.Importing Libraries"
   ]
  },
  {
   "cell_type": "code",
   "execution_count": 1,
   "id": "535bc76f-4766-4d6a-9cfe-c29abf82f071",
   "metadata": {},
   "outputs": [],
   "source": [
    "import numpy as np\n",
    "import pandas as pd\n",
    "import seaborn as sns\n",
    "import matplotlib.pyplot as plt\n",
    "import os\n",
    "from PIL import Image\n",
    "import pytesseract\n",
    "import requests\n",
    "from io import BytesIO\n",
    "import re"
   ]
  },
  {
   "cell_type": "markdown",
   "id": "76339ba9-3aa1-41dd-9ddc-d6c1bde9a85e",
   "metadata": {},
   "source": [
    "# Reading Data"
   ]
  },
  {
   "cell_type": "code",
   "execution_count": 2,
   "id": "24c57790-cfc4-40c4-a241-e39610b1a9d4",
   "metadata": {},
   "outputs": [],
   "source": [
    "file_dir = r'/Users/rupinajay/Developer/Amazon ML Challenge 24/dataset'"
   ]
  },
  {
   "cell_type": "code",
   "execution_count": 3,
   "id": "a9e8139b-db2a-4968-b389-b551fe969632",
   "metadata": {},
   "outputs": [],
   "source": [
    "def get_data(dataset_name):\n",
    "    file_name = f\"{dataset_name}.csv\"\n",
    "    file_path = os.path.join(file_dir,file_name)\n",
    "    \n",
    "    return pd.read_csv(file_path)"
   ]
  },
  {
   "cell_type": "code",
   "execution_count": 4,
   "id": "7cf870f8-cabb-4714-9e7b-fa54393125f4",
   "metadata": {},
   "outputs": [],
   "source": [
    "train = get_data('train')"
   ]
  },
  {
   "cell_type": "code",
   "execution_count": 5,
   "id": "769f2c5b-a9a6-4beb-a77b-36db3437f04c",
   "metadata": {},
   "outputs": [
    {
     "data": {
      "text/html": [
       "<div>\n",
       "<style scoped>\n",
       "    .dataframe tbody tr th:only-of-type {\n",
       "        vertical-align: middle;\n",
       "    }\n",
       "\n",
       "    .dataframe tbody tr th {\n",
       "        vertical-align: top;\n",
       "    }\n",
       "\n",
       "    .dataframe thead th {\n",
       "        text-align: right;\n",
       "    }\n",
       "</style>\n",
       "<table border=\"1\" class=\"dataframe\">\n",
       "  <thead>\n",
       "    <tr style=\"text-align: right;\">\n",
       "      <th></th>\n",
       "      <th>image_link</th>\n",
       "      <th>group_id</th>\n",
       "      <th>entity_name</th>\n",
       "      <th>entity_value</th>\n",
       "    </tr>\n",
       "  </thead>\n",
       "  <tbody>\n",
       "    <tr>\n",
       "      <th>0</th>\n",
       "      <td>https://m.media-amazon.com/images/I/61I9XdN6OF...</td>\n",
       "      <td>748919</td>\n",
       "      <td>item_weight</td>\n",
       "      <td>500.0 gram</td>\n",
       "    </tr>\n",
       "    <tr>\n",
       "      <th>1</th>\n",
       "      <td>https://m.media-amazon.com/images/I/71gSRbyXmo...</td>\n",
       "      <td>916768</td>\n",
       "      <td>item_volume</td>\n",
       "      <td>1.0 cup</td>\n",
       "    </tr>\n",
       "    <tr>\n",
       "      <th>2</th>\n",
       "      <td>https://m.media-amazon.com/images/I/61BZ4zrjZX...</td>\n",
       "      <td>459516</td>\n",
       "      <td>item_weight</td>\n",
       "      <td>0.709 gram</td>\n",
       "    </tr>\n",
       "    <tr>\n",
       "      <th>3</th>\n",
       "      <td>https://m.media-amazon.com/images/I/612mrlqiI4...</td>\n",
       "      <td>459516</td>\n",
       "      <td>item_weight</td>\n",
       "      <td>0.709 gram</td>\n",
       "    </tr>\n",
       "    <tr>\n",
       "      <th>4</th>\n",
       "      <td>https://m.media-amazon.com/images/I/617Tl40LOX...</td>\n",
       "      <td>731432</td>\n",
       "      <td>item_weight</td>\n",
       "      <td>1400 milligram</td>\n",
       "    </tr>\n",
       "  </tbody>\n",
       "</table>\n",
       "</div>"
      ],
      "text/plain": [
       "                                          image_link  group_id  entity_name  \\\n",
       "0  https://m.media-amazon.com/images/I/61I9XdN6OF...    748919  item_weight   \n",
       "1  https://m.media-amazon.com/images/I/71gSRbyXmo...    916768  item_volume   \n",
       "2  https://m.media-amazon.com/images/I/61BZ4zrjZX...    459516  item_weight   \n",
       "3  https://m.media-amazon.com/images/I/612mrlqiI4...    459516  item_weight   \n",
       "4  https://m.media-amazon.com/images/I/617Tl40LOX...    731432  item_weight   \n",
       "\n",
       "     entity_value  \n",
       "0      500.0 gram  \n",
       "1         1.0 cup  \n",
       "2      0.709 gram  \n",
       "3      0.709 gram  \n",
       "4  1400 milligram  "
      ]
     },
     "execution_count": 5,
     "metadata": {},
     "output_type": "execute_result"
    }
   ],
   "source": [
    "train.head()"
   ]
  },
  {
   "cell_type": "code",
   "execution_count": 6,
   "id": "127e0cae-ebb4-435c-88de-584f5c871fd9",
   "metadata": {},
   "outputs": [
    {
     "data": {
      "text/html": [
       "<div>\n",
       "<style scoped>\n",
       "    .dataframe tbody tr th:only-of-type {\n",
       "        vertical-align: middle;\n",
       "    }\n",
       "\n",
       "    .dataframe tbody tr th {\n",
       "        vertical-align: top;\n",
       "    }\n",
       "\n",
       "    .dataframe thead th {\n",
       "        text-align: right;\n",
       "    }\n",
       "</style>\n",
       "<table border=\"1\" class=\"dataframe\">\n",
       "  <thead>\n",
       "    <tr style=\"text-align: right;\">\n",
       "      <th></th>\n",
       "      <th>image_link</th>\n",
       "      <th>group_id</th>\n",
       "      <th>entity_name</th>\n",
       "      <th>entity_value</th>\n",
       "    </tr>\n",
       "  </thead>\n",
       "  <tbody>\n",
       "    <tr>\n",
       "      <th>263854</th>\n",
       "      <td>https://m.media-amazon.com/images/I/612J1R1xHl...</td>\n",
       "      <td>558806</td>\n",
       "      <td>height</td>\n",
       "      <td>5.0 centimetre</td>\n",
       "    </tr>\n",
       "    <tr>\n",
       "      <th>263855</th>\n",
       "      <td>https://m.media-amazon.com/images/I/61Blzh2+28...</td>\n",
       "      <td>470067</td>\n",
       "      <td>height</td>\n",
       "      <td>8.5 inch</td>\n",
       "    </tr>\n",
       "    <tr>\n",
       "      <th>263856</th>\n",
       "      <td>https://m.media-amazon.com/images/I/51MsegDL9V...</td>\n",
       "      <td>204245</td>\n",
       "      <td>height</td>\n",
       "      <td>43.2 centimetre</td>\n",
       "    </tr>\n",
       "    <tr>\n",
       "      <th>263857</th>\n",
       "      <td>https://m.media-amazon.com/images/I/510KhVw4VS...</td>\n",
       "      <td>752266</td>\n",
       "      <td>height</td>\n",
       "      <td>9.1 centimetre</td>\n",
       "    </tr>\n",
       "    <tr>\n",
       "      <th>263858</th>\n",
       "      <td>https://m.media-amazon.com/images/I/51lzTNLQ-6...</td>\n",
       "      <td>416664</td>\n",
       "      <td>height</td>\n",
       "      <td>27.5 centimetre</td>\n",
       "    </tr>\n",
       "  </tbody>\n",
       "</table>\n",
       "</div>"
      ],
      "text/plain": [
       "                                               image_link  group_id  \\\n",
       "263854  https://m.media-amazon.com/images/I/612J1R1xHl...    558806   \n",
       "263855  https://m.media-amazon.com/images/I/61Blzh2+28...    470067   \n",
       "263856  https://m.media-amazon.com/images/I/51MsegDL9V...    204245   \n",
       "263857  https://m.media-amazon.com/images/I/510KhVw4VS...    752266   \n",
       "263858  https://m.media-amazon.com/images/I/51lzTNLQ-6...    416664   \n",
       "\n",
       "       entity_name     entity_value  \n",
       "263854      height   5.0 centimetre  \n",
       "263855      height         8.5 inch  \n",
       "263856      height  43.2 centimetre  \n",
       "263857      height   9.1 centimetre  \n",
       "263858      height  27.5 centimetre  "
      ]
     },
     "execution_count": 6,
     "metadata": {},
     "output_type": "execute_result"
    }
   ],
   "source": [
    "train.tail()"
   ]
  },
  {
   "cell_type": "code",
   "execution_count": 7,
   "id": "2113ad2f-c67d-41e1-97d8-a87e97630be8",
   "metadata": {},
   "outputs": [
    {
     "data": {
      "text/plain": [
       "'https://m.media-amazon.com/images/I/71E7CU55dcL.jpg'"
      ]
     },
     "execution_count": 7,
     "metadata": {},
     "output_type": "execute_result"
    }
   ],
   "source": [
    "train.iloc[55]['image_link']"
   ]
  },
  {
   "cell_type": "markdown",
   "id": "5d89d44d-fb87-4516-987d-32134f3423b4",
   "metadata": {},
   "source": [
    "## Running Tesseract code"
   ]
  },
  {
   "cell_type": "markdown",
   "id": "ac8e4551-d57e-4760-a91a-ad4b51d61e9b",
   "metadata": {},
   "source": [
    "### Reading Image data without rotation"
   ]
  },
  {
   "cell_type": "code",
   "execution_count": 8,
   "id": "b7faaf7b-eb19-4e8c-a377-ccd41bad0f30",
   "metadata": {},
   "outputs": [
    {
     "name": "stdout",
     "output_type": "stream",
     "text": [
      "Specifications:\n",
      "Material: - borosilicate glass\n",
      "\n",
      "Colors: ¢ 3- Natural, Pink, Gold\n",
      "\n",
      "Weight: * 160g\n",
      "Volume: ¢ 180 ml\n",
      "\n",
      "Shape: ¢ Shiba Inu\n",
      "\n",
      "9,5cm\n",
      "\n",
      "\n"
     ]
    }
   ],
   "source": [
    "# Load the image\n",
    " \n",
    "image_url = 'https://m.media-amazon.com/images/I/71E7CU55dcL.jpg'\n",
    "\n",
    "# Fetch the image from the URL\n",
    "response = requests.get(image_url)\n",
    "\n",
    "# Open the image from the response content\n",
    "img = Image.open(BytesIO(response.content))\n",
    "\n",
    "# Extract text from the image\n",
    "text = pytesseract.image_to_string(img)\n",
    "\n",
    "# Print the extracted text\n",
    "print(text)\n"
   ]
  },
  {
   "cell_type": "markdown",
   "id": "24f8cbf7-712e-4203-a1a1-e884bee56610",
   "metadata": {},
   "source": [
    "### Reading Image Data with Rotation of image"
   ]
  },
  {
   "cell_type": "code",
   "execution_count": 9,
   "id": "8bddbf1c-3407-4769-aec8-fdd7d9efd60e",
   "metadata": {},
   "outputs": [],
   "source": [
    "def get_image_data(image_url):\n",
    "    \n",
    "    # Fetch the image from the URL\n",
    "    response = requests.get(image_url)\n",
    "    \n",
    "    # Open the image from the response content\n",
    "    img = Image.open(BytesIO(response.content))\n",
    "    \n",
    "    # List to store the extracted text at different rotations\n",
    "    extracted_texts = []\n",
    "    \n",
    "    # Rotate the image in all four directions and extract text\n",
    "    for angle in [0, 90, 180, 270]:\n",
    "        # Rotate the image\n",
    "        rotated_img = img.rotate(angle, expand=True)\n",
    "        \n",
    "        # Extract text from the rotated image\n",
    "        text = pytesseract.image_to_string(rotated_img)\n",
    "        \n",
    "        # Store the extracted text in the list\n",
    "        extracted_texts.append(text)\n",
    "    \n",
    "    return extracted_texts\n",
    "    \n",
    "    # The list 'extracted_texts' will now contain the extracted text at each rotation angle.\n"
   ]
  },
  {
   "cell_type": "code",
   "execution_count": 10,
   "id": "aa8003cc-92bf-4241-8ceb-15e8cbc2938b",
   "metadata": {},
   "outputs": [
    {
     "data": {
      "text/plain": [
       "['Specifications:\\n\\nMaterial: - borosilicate glass\\n\\nColors: ¢ 3- Natural, Pink, Gold\\nWeight: * 160g\\nVolume: - 180 ml\\n\\nShape: ¢ Shiba Inu\\n\\n9,5cm\\n\\n',\n",
       " '',\n",
       " 'wd G‘6\\n\\nnu] eqrys - sadeys\\nTWoOSt. s<sUMIOA\\nSo9r- 34310\\nPICD ‘Hurd ‘TernzeN - € « tsa0]OD\\nSSU[Z aqVoTIso10g »  seLJOREL\\n\\nSSUOTJBDIZINIdS\\n\\n',\n",
       " 'Specifications:\\n\\nMaterial: - borosilicate glass\\n\\nColors: ¢ 3- Natural, Pink, Gold\\nWeight:\\n\\nVolume:\\n\\nShape:\\n\\n9,5cm\\n\\n']"
      ]
     },
     "execution_count": 10,
     "metadata": {},
     "output_type": "execute_result"
    }
   ],
   "source": [
    "get_image_data('https://m.media-amazon.com/images/I/71E7CU55dcL.jpg')"
   ]
  },
  {
   "cell_type": "markdown",
   "id": "28e9d9c4-7864-4eda-9246-88fcd448a315",
   "metadata": {},
   "source": [
    "## Cleaning Extracted Text after OCR"
   ]
  },
  {
   "cell_type": "code",
   "execution_count": 12,
   "id": "bbc3ae38-4752-46c0-b7d4-67c999f534d0",
   "metadata": {},
   "outputs": [
    {
     "name": "stdout",
     "output_type": "stream",
     "text": [
      "\n",
      "Product Specifications:\n",
      "\n",
      "F\n",
      "BATTERY FREE\n",
      "AUTOMATIC\n",
      "START\n",
      "27KG IN  - y, SOLID ZINC\n",
      "RESISTANCE ROTOR\n",
      "\n"
     ]
    }
   ],
   "source": [
    "# Load the image\n",
    "image_url = 'https://m.media-amazon.com/images/I/613thsN41vL.jpg'\n",
    "\n",
    "# Fetch the image from the URL\n",
    "response = requests.get(image_url)\n",
    "\n",
    "# Open the image from the response content\n",
    "img = Image.open(BytesIO(response.content))\n",
    "\n",
    "# Extract text using pytesseract\n",
    "text = pytesseract.image_to_string(img)\n",
    "\n",
    "# Clean the extracted text\n",
    "def clean_text(text):\n",
    "    text = re.sub(r'[^\\w\\s\\.\\-,:]', '', text)  # Remove unwanted symbols\n",
    "    text = re.sub(r'\\n+', '\\n', text).strip()  # Remove extra newlines\n",
    "    return text\n",
    "\n",
    "cleaned_text = clean_text(text)\n",
    "\n",
    "# Provide the information as needed\n",
    "user_info = f\"\"\"\n",
    "Product Specifications:\n",
    "\n",
    "{cleaned_text}\n",
    "\"\"\"\n",
    "\n",
    "print(user_info) \n"
   ]
  },
  {
   "cell_type": "code",
   "execution_count": null,
   "id": "23778740-fa0a-48a7-ba7d-2ae9181af134",
   "metadata": {},
   "outputs": [],
   "source": []
  },
  {
   "cell_type": "code",
   "execution_count": null,
   "id": "80c205f9-c93a-48ee-b81f-24429a83c64c",
   "metadata": {},
   "outputs": [],
   "source": []
  },
  {
   "cell_type": "code",
   "execution_count": null,
   "id": "d5871d6e-bdc3-463b-8d1d-05a7435a8813",
   "metadata": {},
   "outputs": [],
   "source": []
  },
  {
   "cell_type": "code",
   "execution_count": 13,
   "id": "71527607-989f-4ac0-9339-521d4f2d3ae7",
   "metadata": {},
   "outputs": [],
   "source": [
    "def clean_text(text):\n",
    "    text = re.sub(r'[^\\w\\s\\.\\-,:\\n]', '', text)  # Remove unwanted symbols but keep key-value symbols like \":\" and \"-\"\n",
    "    text = re.sub(r'\\n+', '\\n', text).strip()  # Remove extra newlines\n",
    "    return text"
   ]
  },
  {
   "cell_type": "code",
   "execution_count": 14,
   "id": "2198c9fd-e078-4daa-ae65-8e7aacd909ca",
   "metadata": {},
   "outputs": [],
   "source": [
    "def extract_key_value_pairs(cleaned_text):\n",
    "    # Regex to capture lines like \"Key: Value\" or \"Key - Value\"\n",
    "    pattern = re.compile(r'([A-Za-z\\s]+)[:\\-]\\s*(.*)')\n",
    "    key_value_pairs = {}\n",
    "    \n",
    "    # Split text into lines and search for key-value pairs\n",
    "    for line in cleaned_text.split('\\n'):\n",
    "        match = pattern.match(line)\n",
    "        if match:\n",
    "            key = match.group(1).strip()\n",
    "            value = match.group(2).strip()\n",
    "            key_value_pairs[key] = value\n",
    "    \n",
    "    return key_value_pairs"
   ]
  },
  {
   "cell_type": "code",
   "execution_count": 15,
   "id": "077eb750-e57d-4868-a97a-ba9dd9f63323",
   "metadata": {},
   "outputs": [],
   "source": [
    "txt = get_image_data('https://m.media-amazon.com/images/I/71E7CU55dcL.jpg')\n",
    "cleaned_text = extract_key_value_pairs(clean_text(txt[0]))"
   ]
  },
  {
   "cell_type": "code",
   "execution_count": 16,
   "id": "84dd7fc2-7c00-4e8d-9313-01c04d14804c",
   "metadata": {},
   "outputs": [
    {
     "name": "stdout",
     "output_type": "stream",
     "text": [
      "Cleaned Text:\n",
      "Specifications:\n",
      "Material: - borosilicate glass\n",
      "Colors:  3- Natural, Pink, Gold\n",
      "Weight:  160g\n",
      "Volume:  180 ml\n",
      "Shape:  Shiba Inu\n",
      "9,5cm\n",
      "\n",
      "Extracted Key-Value Pairs:\n",
      "{'Specifications': '', 'Material': '- borosilicate glass', 'Colors': '3- Natural, Pink, Gold', 'Weight': '160g', 'Volume': '180 ml', 'Shape': 'Shiba Inu'}\n",
      "\n",
      "Formatted Output:\n",
      "Specifications: \n",
      "Material: - borosilicate glass\n",
      "Colors: 3- Natural, Pink, Gold\n",
      "Weight: 160g\n",
      "Volume: 180 ml\n",
      "Shape: Shiba Inu\n"
     ]
    }
   ],
   "source": [
    "from PIL import Image\n",
    "import pytesseract\n",
    "import re\n",
    "from sklearn.feature_extraction.text import TfidfVectorizer\n",
    "\n",
    "# Load the image\n",
    "image_url = 'https://m.media-amazon.com/images/I/71E7CU55dcL.jpg'\n",
    "\n",
    "# Fetch the image from the URL\n",
    "response = requests.get(image_url)\n",
    "\n",
    "# Open the image from the response content\n",
    "img = Image.open(BytesIO(response.content))\n",
    "\n",
    "# Extract text using pytesseract\n",
    "text = pytesseract.image_to_string(img)\n",
    "\n",
    "# General text cleaning function\n",
    "def clean_text(text):\n",
    "    text = re.sub(r'[^\\w\\s\\.\\-,:\\n]', '', text)  # Remove unwanted symbols but keep key-value symbols like \":\" and \"-\"\n",
    "    text = re.sub(r'\\n+', '\\n', text).strip()  # Remove extra newlines\n",
    "    return text\n",
    "\n",
    "# Generalized function to extract key-value pairs\n",
    "def extract_key_value_pairs(cleaned_text):\n",
    "    # Regex to capture lines like \"Key: Value\" or \"Key - Value\"\n",
    "    pattern = re.compile(r'([A-Za-z\\s]+)[:\\-]\\s*(.*)')\n",
    "    key_value_pairs = {}\n",
    "    \n",
    "    # Split text into lines and search for key-value pairs\n",
    "    for line in cleaned_text.split('\\n'):\n",
    "        match = pattern.match(line)\n",
    "        if match:\n",
    "            key = match.group(1).strip()\n",
    "            value = match.group(2).strip()\n",
    "            key_value_pairs[key] = value\n",
    "    \n",
    "    return key_value_pairs\n",
    "\n",
    "# Clean the text\n",
    "cleaned_text = clean_text(text)\n",
    "print(\"Cleaned Text:\")\n",
    "print(cleaned_text)\n",
    "\n",
    "# Extract key-value pairs dynamically\n",
    "key_value_pairs = extract_key_value_pairs(cleaned_text)\n",
    "print(\"\\nExtracted Key-Value Pairs:\")\n",
    "print(key_value_pairs)\n",
    "\n",
    "# You can now use these key-value pairs as you wish\n",
    "# For example, convert to TF-IDF features or feed into a model\n",
    "\n",
    "# If needed, convert key-value pairs back into a formatted string for use\n",
    "formatted_string = \"\\n\".join([f\"{key}: {value}\" for key, value in key_value_pairs.items()])\n",
    "print(\"\\nFormatted Output:\")\n",
    "print(formatted_string)\n",
    "\n",
    "# Example: Convert cleaned text into TF-IDF features\n",
    "texts = [cleaned_text]\n",
    "vectorizer = TfidfVectorizer()\n",
    "X = vectorizer.fit_transform(texts)\n",
    "\n",
    "# Now X is ready for use in a prediction model\n"
   ]
  },
  {
   "cell_type": "code",
   "execution_count": null,
   "id": "6fee6542-4c7b-453a-b931-818298e8a1e6",
   "metadata": {},
   "outputs": [],
   "source": []
  }
 ],
 "metadata": {
  "kernelspec": {
   "display_name": "Python 3 (ipykernel)",
   "language": "python",
   "name": "python3"
  },
  "language_info": {
   "codemirror_mode": {
    "name": "ipython",
    "version": 3
   },
   "file_extension": ".py",
   "mimetype": "text/x-python",
   "name": "python",
   "nbconvert_exporter": "python",
   "pygments_lexer": "ipython3",
   "version": "3.10.14"
  }
 },
 "nbformat": 4,
 "nbformat_minor": 5
}
